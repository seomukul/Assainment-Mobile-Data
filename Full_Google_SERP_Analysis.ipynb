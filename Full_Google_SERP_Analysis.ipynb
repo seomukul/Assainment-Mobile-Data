{
  "cells": [
    {
      "cell_type": "markdown",
      "metadata": {
        "id": "view-in-github",
        "colab_type": "text"
      },
      "source": [
        "<a href=\"https://colab.research.google.com/github/seomukul/Assainment-mobile-data/blob/main/Full_Google_SERP_Analysis.ipynb\" target=\"_parent\"><img src=\"https://colab.research.google.com/assets/colab-badge.svg\" alt=\"Open In Colab\"/></a>"
      ]
    },
    {
      "cell_type": "markdown",
      "source": [
        "## **Install Libraries**"
      ],
      "metadata": {
        "id": "AdJA_N7p6JMW"
      }
    },
    {
      "cell_type": "code",
      "execution_count": null,
      "metadata": {
        "id": "Y32I_LzAdMeV"
      },
      "outputs": [],
      "source": [
        "pip install bs4"
      ]
    },
    {
      "cell_type": "code",
      "execution_count": null,
      "metadata": {
        "id": "VQnrFN9RdRHv"
      },
      "outputs": [],
      "source": [
        "pip install requests"
      ]
    },
    {
      "cell_type": "code",
      "execution_count": null,
      "metadata": {
        "id": "nSSWbA7TY10R"
      },
      "outputs": [],
      "source": [
        "pip install requests_html"
      ]
    },
    {
      "cell_type": "code",
      "execution_count": null,
      "metadata": {
        "id": "cGYTSjfFd4ow"
      },
      "outputs": [],
      "source": [
        "pip install pandas"
      ]
    },
    {
      "cell_type": "code",
      "execution_count": null,
      "metadata": {
        "id": "sxcszpQtgNYr"
      },
      "outputs": [],
      "source": [
        "pip install --upgrade ecommercetools"
      ]
    },
    {
      "cell_type": "code",
      "execution_count": null,
      "metadata": {
        "id": "hBeGdZ39VoJ3"
      },
      "outputs": [],
      "source": [
        "import requests\n",
        "import urllib\n",
        "import json\n",
        "import operator\n",
        "import pandas as pd\n",
        "from requests_html import HTML\n",
        "from requests_html import HTMLSession\n",
        "from bs4 import BeautifulSoup"
      ]
    },
    {
      "cell_type": "code",
      "execution_count": null,
      "metadata": {
        "id": "JBYUj5aZgUha"
      },
      "outputs": [],
      "source": [
        "from ecommercetools import seo"
      ]
    },
    {
      "cell_type": "code",
      "execution_count": null,
      "metadata": {
        "id": "29DABHFmYyng"
      },
      "outputs": [],
      "source": [
        "def get_source(url):\n",
        "\n",
        "    try:\n",
        "        session = HTMLSession()\n",
        "        response = session.get(url)\n",
        "        return response\n",
        "    except requests.exceptions.RequestException as e:\n",
        "        print(e)"
      ]
    },
    {
      "cell_type": "code",
      "execution_count": null,
      "metadata": {
        "id": "Gp9eKI_vZy93"
      },
      "outputs": [],
      "source": [
        "def get_results(query):\n",
        "    query = urllib.parse.quote_plus(query)\n",
        "    response = get_source(\"https://suggestqueries.google.com/complete/search?output=chrome&hl=en&q=\" + query)\n",
        "    results = json.loads(response.text)\n",
        "    return results"
      ]
    },
    {
      "cell_type": "code",
      "source": [],
      "metadata": {
        "id": "H1o-zw-I6cjP"
      },
      "execution_count": null,
      "outputs": []
    },
    {
      "cell_type": "markdown",
      "metadata": {
        "id": "xoauzGdefUtK"
      },
      "source": [
        "## **Google Autocomplete & SERP**"
      ]
    },
    {
      "cell_type": "code",
      "execution_count": null,
      "metadata": {
        "id": "8ZSBfxvSppx-",
        "colab": {
          "base_uri": "https://localhost:8080/"
        },
        "outputId": "36d1c2a7-d27a-4a9f-cf48-9052e01c05c1"
      },
      "outputs": [
        {
          "output_type": "execute_result",
          "data": {
            "text/plain": [
              "['how to watch ufc with vpn',\n",
              " ['how to watch ufc with vpn reddit',\n",
              "  'how to watch ufc ppv with vpn',\n",
              "  'how to watch ufc 270 with vpn',\n",
              "  'how to watch ufc for free with vpn reddit',\n",
              "  'how to watch ufc free with vpn',\n",
              "  'how to watch ufc in usa'],\n",
              " ['', '', '', '', '', ''],\n",
              " [],\n",
              " {'google:clientdata': {'bpc': False, 'phi': 0, 'tlw': False},\n",
              "  'google:suggestrelevance': [601, 600, 553, 552, 551, 550],\n",
              "  'google:suggestsubtypes': [[512],\n",
              "   [30, 22],\n",
              "   [30, 22],\n",
              "   [30, 22],\n",
              "   [390],\n",
              "   [390]],\n",
              "  'google:suggesttype': ['QUERY', 'QUERY', 'QUERY', 'QUERY', 'QUERY', 'QUERY'],\n",
              "  'google:verbatimrelevance': 1300}]"
            ]
          },
          "metadata": {},
          "execution_count": 10
        }
      ],
      "source": [
        "search_term = \"how to watch ufc with vpn\"\n",
        "results = get_results(search_term)\n",
        "results"
      ]
    },
    {
      "cell_type": "code",
      "execution_count": null,
      "metadata": {
        "id": "HZ2370lJpqOL",
        "colab": {
          "base_uri": "https://localhost:8080/"
        },
        "outputId": "509866be-186b-444a-b180-764d97f34c3a"
      },
      "outputs": [
        {
          "output_type": "stream",
          "name": "stdout",
          "text": [
            "https://cybernews.com/stream-online/how-to-watch-ufc/\n",
            "https://vpnoverview.com/unblocking/sports/watch-ufc-for-free-with-vpn/\n",
            "https://vpnoverview.com/unblocking/sports/watch-ufc-for-free-with-vpn/#which-vpn-provider-should-i-choose-to-watch-ufc\n",
            "https://vpnoverview.com/unblocking/sports/watch-ufc-for-free-with-vpn/#other-vpn-options-to-watch-the-ufc\n",
            "https://vpnveteran.com/how-to-watch-ufc-online-free-use-a-vpn/\n",
            "https://vpnpro.com/blog/how-to-watch-ufc-online/\n",
            "https://www.expressvpn.com/stream-sports/ufc/\n",
            "https://www.expressvpn.com/stream-sports/ufc/#ufc-fight-night-dern-vs-yan-on-espn-ppv\n",
            "https://www.expressvpn.com/stream-sports/ufc/#watch-ufc-fight-night-dern-vs-yan-on-bt-sport-box-office\n",
            "https://www.privacyaffairs.com/watch-ufc-pay-per-view-fights/\n"
          ]
        }
      ],
      "source": [
        "try:\n",
        "    from googlesearch import search\n",
        "except ImportError:\n",
        "    print(\"No module named 'google' found\")\n",
        "query = \"how to watch ufc with vpn\"\n",
        "\n",
        "for j in search(query, tld=\"co.in\", num=10, stop=10, pause=2):\n",
        "    print(j)"
      ]
    },
    {
      "cell_type": "code",
      "source": [],
      "metadata": {
        "id": "UZYJW0DV7Rp2"
      },
      "execution_count": null,
      "outputs": []
    },
    {
      "cell_type": "markdown",
      "source": [
        "## **Another way**"
      ],
      "metadata": {
        "id": "Fjx_XlDy60PC"
      }
    },
    {
      "cell_type": "code",
      "execution_count": null,
      "metadata": {
        "id": "e3vg0xlegZLP",
        "colab": {
          "base_uri": "https://localhost:8080/",
          "height": 529
        },
        "outputId": "b649b0e1-102d-4e5f-887d-f59ac2e3763e"
      },
      "outputs": [
        {
          "output_type": "execute_result",
          "data": {
            "text/plain": [
              "   position                                              title  \\\n",
              "0         1  How to watch UFC fight online with a VPN in 20...   \n",
              "1         2  Watch UFC Pay-Per-View Fights (Free Streams an...   \n",
              "2         3  Top 3 VPN to watch UFC live and free in 2022 |...   \n",
              "3         4  How to stream UFC live online from anywhere - ...   \n",
              "4         5  UFC Live Streams: Watch UFC Fight Night: Dern ...   \n",
              "5         6  How to Watch UFC Pay-Per-View Fights - Privacy...   \n",
              "6         7  How to Watch UFC With VPN (Best Choices) - Cyb...   \n",
              "7         8  What country has the cheapest ufc pay per view...   \n",
              "8         9  How to Watch UFC 267 (Blachowicz vs. Teixeira ...   \n",
              "9        10  #1 UFC Fight Pass VPN: Low Prices, No Blackout...   \n",
              "\n",
              "                                                link  \\\n",
              "0  https://cybernews.com/stream-online/how-to-wat...   \n",
              "1  https://vpnoverview.com/unblocking/sports/watc...   \n",
              "2  https://vpnveteran.com/how-to-watch-ufc-online...   \n",
              "3   https://vpnpro.com/blog/how-to-watch-ufc-online/   \n",
              "4      https://www.expressvpn.com/stream-sports/ufc/   \n",
              "5  https://www.privacyaffairs.com/watch-ufc-pay-p...   \n",
              "6  https://cyberwaters.com/how-to-watch-ufc-with-...   \n",
              "7  https://www.reddit.com/r/VPN/comments/l26tij/w...   \n",
              "8  https://www.vpnmentor.com/blog/how-to-stream-u...   \n",
              "9  https://www.cyberghostvpn.com/en_US/ufc-fight-...   \n",
              "\n",
              "                                                text        bold  \n",
              "0                                                                 \n",
              "1  Get yourself a good VPN. · Sign up and registe...         vpn  \n",
              "2  How to enjoy UFC Live Stream Free Online? · Go...         ufc  \n",
              "3  Sep 20, 2022 — It was possible to watch UFC fo...   watch ufc  \n",
              "4  Stream UFC Fight Night: Dern vs. Yan prelims l...         ufc  \n",
              "5  Sep 7, 2022 — ExpressVPN is our top choice VPN...  expressvpn  \n",
              "6  Post subscription, you can immediately start w...         ufc  \n",
              "7  Jan 21, 2021 — You saying with a VPN set to th...         vpn  \n",
              "8                                                                 \n",
              "9  CyberGhost VPN lets you access exclusive UFC c...         vpn  "
            ],
            "text/html": [
              "\n",
              "  <div id=\"df-a5dde853-275c-4c19-ad76-8ba3aa997c43\">\n",
              "    <div class=\"colab-df-container\">\n",
              "      <div>\n",
              "<style scoped>\n",
              "    .dataframe tbody tr th:only-of-type {\n",
              "        vertical-align: middle;\n",
              "    }\n",
              "\n",
              "    .dataframe tbody tr th {\n",
              "        vertical-align: top;\n",
              "    }\n",
              "\n",
              "    .dataframe thead th {\n",
              "        text-align: right;\n",
              "    }\n",
              "</style>\n",
              "<table border=\"1\" class=\"dataframe\">\n",
              "  <thead>\n",
              "    <tr style=\"text-align: right;\">\n",
              "      <th></th>\n",
              "      <th>position</th>\n",
              "      <th>title</th>\n",
              "      <th>link</th>\n",
              "      <th>text</th>\n",
              "      <th>bold</th>\n",
              "    </tr>\n",
              "  </thead>\n",
              "  <tbody>\n",
              "    <tr>\n",
              "      <th>0</th>\n",
              "      <td>1</td>\n",
              "      <td>How to watch UFC fight online with a VPN in 20...</td>\n",
              "      <td>https://cybernews.com/stream-online/how-to-wat...</td>\n",
              "      <td></td>\n",
              "      <td></td>\n",
              "    </tr>\n",
              "    <tr>\n",
              "      <th>1</th>\n",
              "      <td>2</td>\n",
              "      <td>Watch UFC Pay-Per-View Fights (Free Streams an...</td>\n",
              "      <td>https://vpnoverview.com/unblocking/sports/watc...</td>\n",
              "      <td>Get yourself a good VPN. · Sign up and registe...</td>\n",
              "      <td>vpn</td>\n",
              "    </tr>\n",
              "    <tr>\n",
              "      <th>2</th>\n",
              "      <td>3</td>\n",
              "      <td>Top 3 VPN to watch UFC live and free in 2022 |...</td>\n",
              "      <td>https://vpnveteran.com/how-to-watch-ufc-online...</td>\n",
              "      <td>How to enjoy UFC Live Stream Free Online? · Go...</td>\n",
              "      <td>ufc</td>\n",
              "    </tr>\n",
              "    <tr>\n",
              "      <th>3</th>\n",
              "      <td>4</td>\n",
              "      <td>How to stream UFC live online from anywhere - ...</td>\n",
              "      <td>https://vpnpro.com/blog/how-to-watch-ufc-online/</td>\n",
              "      <td>Sep 20, 2022 — It was possible to watch UFC fo...</td>\n",
              "      <td>watch ufc</td>\n",
              "    </tr>\n",
              "    <tr>\n",
              "      <th>4</th>\n",
              "      <td>5</td>\n",
              "      <td>UFC Live Streams: Watch UFC Fight Night: Dern ...</td>\n",
              "      <td>https://www.expressvpn.com/stream-sports/ufc/</td>\n",
              "      <td>Stream UFC Fight Night: Dern vs. Yan prelims l...</td>\n",
              "      <td>ufc</td>\n",
              "    </tr>\n",
              "    <tr>\n",
              "      <th>5</th>\n",
              "      <td>6</td>\n",
              "      <td>How to Watch UFC Pay-Per-View Fights - Privacy...</td>\n",
              "      <td>https://www.privacyaffairs.com/watch-ufc-pay-p...</td>\n",
              "      <td>Sep 7, 2022 — ExpressVPN is our top choice VPN...</td>\n",
              "      <td>expressvpn</td>\n",
              "    </tr>\n",
              "    <tr>\n",
              "      <th>6</th>\n",
              "      <td>7</td>\n",
              "      <td>How to Watch UFC With VPN (Best Choices) - Cyb...</td>\n",
              "      <td>https://cyberwaters.com/how-to-watch-ufc-with-...</td>\n",
              "      <td>Post subscription, you can immediately start w...</td>\n",
              "      <td>ufc</td>\n",
              "    </tr>\n",
              "    <tr>\n",
              "      <th>7</th>\n",
              "      <td>8</td>\n",
              "      <td>What country has the cheapest ufc pay per view...</td>\n",
              "      <td>https://www.reddit.com/r/VPN/comments/l26tij/w...</td>\n",
              "      <td>Jan 21, 2021 — You saying with a VPN set to th...</td>\n",
              "      <td>vpn</td>\n",
              "    </tr>\n",
              "    <tr>\n",
              "      <th>8</th>\n",
              "      <td>9</td>\n",
              "      <td>How to Watch UFC 267 (Blachowicz vs. Teixeira ...</td>\n",
              "      <td>https://www.vpnmentor.com/blog/how-to-stream-u...</td>\n",
              "      <td></td>\n",
              "      <td></td>\n",
              "    </tr>\n",
              "    <tr>\n",
              "      <th>9</th>\n",
              "      <td>10</td>\n",
              "      <td>#1 UFC Fight Pass VPN: Low Prices, No Blackout...</td>\n",
              "      <td>https://www.cyberghostvpn.com/en_US/ufc-fight-...</td>\n",
              "      <td>CyberGhost VPN lets you access exclusive UFC c...</td>\n",
              "      <td>vpn</td>\n",
              "    </tr>\n",
              "  </tbody>\n",
              "</table>\n",
              "</div>\n",
              "      <button class=\"colab-df-convert\" onclick=\"convertToInteractive('df-a5dde853-275c-4c19-ad76-8ba3aa997c43')\"\n",
              "              title=\"Convert this dataframe to an interactive table.\"\n",
              "              style=\"display:none;\">\n",
              "        \n",
              "  <svg xmlns=\"http://www.w3.org/2000/svg\" height=\"24px\"viewBox=\"0 0 24 24\"\n",
              "       width=\"24px\">\n",
              "    <path d=\"M0 0h24v24H0V0z\" fill=\"none\"/>\n",
              "    <path d=\"M18.56 5.44l.94 2.06.94-2.06 2.06-.94-2.06-.94-.94-2.06-.94 2.06-2.06.94zm-11 1L8.5 8.5l.94-2.06 2.06-.94-2.06-.94L8.5 2.5l-.94 2.06-2.06.94zm10 10l.94 2.06.94-2.06 2.06-.94-2.06-.94-.94-2.06-.94 2.06-2.06.94z\"/><path d=\"M17.41 7.96l-1.37-1.37c-.4-.4-.92-.59-1.43-.59-.52 0-1.04.2-1.43.59L10.3 9.45l-7.72 7.72c-.78.78-.78 2.05 0 2.83L4 21.41c.39.39.9.59 1.41.59.51 0 1.02-.2 1.41-.59l7.78-7.78 2.81-2.81c.8-.78.8-2.07 0-2.86zM5.41 20L4 18.59l7.72-7.72 1.47 1.35L5.41 20z\"/>\n",
              "  </svg>\n",
              "      </button>\n",
              "      \n",
              "  <style>\n",
              "    .colab-df-container {\n",
              "      display:flex;\n",
              "      flex-wrap:wrap;\n",
              "      gap: 12px;\n",
              "    }\n",
              "\n",
              "    .colab-df-convert {\n",
              "      background-color: #E8F0FE;\n",
              "      border: none;\n",
              "      border-radius: 50%;\n",
              "      cursor: pointer;\n",
              "      display: none;\n",
              "      fill: #1967D2;\n",
              "      height: 32px;\n",
              "      padding: 0 0 0 0;\n",
              "      width: 32px;\n",
              "    }\n",
              "\n",
              "    .colab-df-convert:hover {\n",
              "      background-color: #E2EBFA;\n",
              "      box-shadow: 0px 1px 2px rgba(60, 64, 67, 0.3), 0px 1px 3px 1px rgba(60, 64, 67, 0.15);\n",
              "      fill: #174EA6;\n",
              "    }\n",
              "\n",
              "    [theme=dark] .colab-df-convert {\n",
              "      background-color: #3B4455;\n",
              "      fill: #D2E3FC;\n",
              "    }\n",
              "\n",
              "    [theme=dark] .colab-df-convert:hover {\n",
              "      background-color: #434B5C;\n",
              "      box-shadow: 0px 1px 3px 1px rgba(0, 0, 0, 0.15);\n",
              "      filter: drop-shadow(0px 1px 2px rgba(0, 0, 0, 0.3));\n",
              "      fill: #FFFFFF;\n",
              "    }\n",
              "  </style>\n",
              "\n",
              "      <script>\n",
              "        const buttonEl =\n",
              "          document.querySelector('#df-a5dde853-275c-4c19-ad76-8ba3aa997c43 button.colab-df-convert');\n",
              "        buttonEl.style.display =\n",
              "          google.colab.kernel.accessAllowed ? 'block' : 'none';\n",
              "\n",
              "        async function convertToInteractive(key) {\n",
              "          const element = document.querySelector('#df-a5dde853-275c-4c19-ad76-8ba3aa997c43');\n",
              "          const dataTable =\n",
              "            await google.colab.kernel.invokeFunction('convertToInteractive',\n",
              "                                                     [key], {});\n",
              "          if (!dataTable) return;\n",
              "\n",
              "          const docLinkHtml = 'Like what you see? Visit the ' +\n",
              "            '<a target=\"_blank\" href=https://colab.research.google.com/notebooks/data_table.ipynb>data table notebook</a>'\n",
              "            + ' to learn more about interactive tables.';\n",
              "          element.innerHTML = '';\n",
              "          dataTable['output_type'] = 'display_data';\n",
              "          await google.colab.output.renderOutput(dataTable, element);\n",
              "          const docLink = document.createElement('div');\n",
              "          docLink.innerHTML = docLinkHtml;\n",
              "          element.appendChild(docLink);\n",
              "        }\n",
              "      </script>\n",
              "    </div>\n",
              "  </div>\n",
              "  "
            ]
          },
          "metadata": {},
          "execution_count": 6
        }
      ],
      "source": [
        "results = seo.get_serps(\"how to watch ufc with vpn\")\n",
        "results"
      ]
    },
    {
      "cell_type": "code",
      "source": [
        "url1 = results['']\n",
        "#----------------------------------------\n",
        "downloaded1 = fetch_url(url1)\n",
        "#----------------------------------------\n",
        "result1 = extract(downloaded1)"
      ],
      "metadata": {
        "id": "_WgYkBYIanrh"
      },
      "execution_count": null,
      "outputs": []
    },
    {
      "cell_type": "code",
      "execution_count": null,
      "metadata": {
        "id": "QDHnc991N9p1"
      },
      "outputs": [],
      "source": [
        "suggestions = seo.google_autocomplete(\"how to watch ufc with vpn\", include_expanded=False)\n",
        "print(suggestions)"
      ]
    },
    {
      "cell_type": "code",
      "source": [],
      "metadata": {
        "id": "9BvPE1WC7RIG"
      },
      "execution_count": null,
      "outputs": []
    },
    {
      "cell_type": "markdown",
      "metadata": {
        "id": "nc-eoC1yfLqi"
      },
      "source": [
        "## **Analyzing Internal Links**"
      ]
    },
    {
      "cell_type": "code",
      "execution_count": null,
      "metadata": {
        "id": "taR8hUFQbdlJ"
      },
      "outputs": [],
      "source": [
        "url = 'https://pheabs.com/borrow-600-loans/\t'\n",
        "reqs = requests.get(url)\n",
        "soup = BeautifulSoup(reqs.text, 'html.parser')\n",
        "\n",
        "urls = []\n",
        "urls = 'hey.jl'\n",
        "for link in soup.find_all('a'):\n",
        "\tprint(link.get('href'))"
      ]
    },
    {
      "cell_type": "code",
      "source": [],
      "metadata": {
        "id": "YBb7OGSV7QMH"
      },
      "execution_count": null,
      "outputs": []
    },
    {
      "cell_type": "markdown",
      "metadata": {
        "id": "1SNUCeBhfADR"
      },
      "source": [
        "### **Analyzing Top Headlines**"
      ]
    },
    {
      "cell_type": "code",
      "execution_count": null,
      "metadata": {
        "id": "zS65MtQLcVuH"
      },
      "outputs": [],
      "source": [
        "import requests\n",
        "import bs4\n",
        "text= \"YOUR TARGET KEYWORD\"\n",
        "url = 'https://google.com/search?q=' + text\n",
        "request_result=requests.get( url )\n",
        "soup = bs4.BeautifulSoup(request_result.text,\n",
        "\t\t\t\t\t\t\"html.parser\")\n",
        "print(soup)"
      ]
    },
    {
      "cell_type": "code",
      "execution_count": null,
      "metadata": {
        "id": "ADGKfRs0cWZH"
      },
      "outputs": [],
      "source": [
        "heading_object=soup.find_all( 'h3' )\n",
        "\n",
        "for info in heading_object:\n",
        "\tprint(info.getText())\n",
        "\tprint(\"------\")"
      ]
    },
    {
      "cell_type": "code",
      "source": [],
      "metadata": {
        "id": "JeHkQdwu7P6v"
      },
      "execution_count": null,
      "outputs": []
    },
    {
      "cell_type": "markdown",
      "metadata": {
        "id": "iSfrVASgfnkI"
      },
      "source": [
        "## **More Vartions From The Google Auto Complete**"
      ]
    },
    {
      "cell_type": "code",
      "execution_count": null,
      "metadata": {
        "id": "lpKF3Vi4bF4u"
      },
      "outputs": [],
      "source": [
        "def get_expanded_term_suffixes():\n",
        "    expanded_term_suffixes = ['a', 'b', 'c', 'd', 'e', 'f', 'g', 'h', 'i', 'j', 'k', 'l', 'm',\n",
        "                             'n', 'o', 'p', 'q', 'r', 's', 't', 'u', 'v', 'w', 'x', 'y', 'z']\n",
        "    return expanded_term_suffixes"
      ]
    },
    {
      "cell_type": "code",
      "execution_count": null,
      "metadata": {
        "id": "UH9SgpRVa8xJ"
      },
      "outputs": [],
      "source": [
        "def get_expanded_term_prefixes():\n",
        "    expanded_term_prefixes = ['who is *', 'what is *', 'where is *', 'when can *', 'why is *', \n",
        "                              'how to *', 'best', 'cheap', 'worst', 'is', 'what', 'when', 'why', \n",
        "                              'how', 'who']\n",
        "    return expanded_term_prefixes"
      ]
    },
    {
      "cell_type": "code",
      "execution_count": null,
      "metadata": {
        "id": "UbxHXH-fa_aG"
      },
      "outputs": [],
      "source": [
        "def get_expanded_terms(query):\n",
        "\n",
        "    expanded_term_prefixes = get_expanded_term_prefixes()\n",
        "    expanded_term_suffixes = get_expanded_term_suffixes()   \n",
        "\n",
        "    terms = []\n",
        "    terms.append(query)\n",
        "\n",
        "    for term in expanded_term_prefixes:\n",
        "        terms.append(term + ' ' + query)\n",
        "\n",
        "    for term in expanded_term_suffixes:\n",
        "        terms.append(query + ' ' + term)\n",
        "\n",
        "    return terms"
      ]
    },
    {
      "cell_type": "code",
      "source": [],
      "metadata": {
        "id": "QE1QJp5B7Ouu"
      },
      "execution_count": null,
      "outputs": []
    },
    {
      "cell_type": "code",
      "execution_count": null,
      "metadata": {
        "id": "UsN6Rn0mbBen"
      },
      "outputs": [],
      "source": [
        "get_expanded_terms(search_term)"
      ]
    },
    {
      "cell_type": "code",
      "source": [],
      "metadata": {
        "id": "VGTiMF0y7OWI"
      },
      "execution_count": null,
      "outputs": []
    },
    {
      "cell_type": "markdown",
      "metadata": {
        "id": "9BxBy0txeshD"
      },
      "source": [
        "## **Scrape People Also Ask**"
      ]
    },
    {
      "cell_type": "code",
      "execution_count": null,
      "metadata": {
        "id": "6mYsAg6yewiq"
      },
      "outputs": [],
      "source": [
        "pip install people_also_ask"
      ]
    },
    {
      "cell_type": "code",
      "execution_count": null,
      "metadata": {
        "id": "dMZe0Q83e3D8"
      },
      "outputs": [],
      "source": [
        "import people_also_ask"
      ]
    },
    {
      "cell_type": "code",
      "source": [],
      "metadata": {
        "id": "f-uWox5X7NkC"
      },
      "execution_count": null,
      "outputs": []
    },
    {
      "cell_type": "code",
      "execution_count": null,
      "metadata": {
        "id": "ztnXM6lce6O1"
      },
      "outputs": [],
      "source": [
        "people_also_ask.get_related_questions(\"YOUR TARGET KEYWORD\", 15)"
      ]
    },
    {
      "cell_type": "code",
      "execution_count": null,
      "metadata": {
        "id": "4bEIZuPxfCCM"
      },
      "outputs": [],
      "source": [
        "#Get the answer of every question\n",
        "people_also_ask.get_answer(\"QUESTION\")"
      ]
    },
    {
      "cell_type": "code",
      "source": [],
      "metadata": {
        "id": "wvo5Pey67MXJ"
      },
      "execution_count": null,
      "outputs": []
    }
  ],
  "metadata": {
    "colab": {
      "provenance": [],
      "include_colab_link": true
    },
    "kernelspec": {
      "display_name": "Python 3",
      "name": "python3"
    },
    "language_info": {
      "name": "python"
    }
  },
  "nbformat": 4,
  "nbformat_minor": 0
}